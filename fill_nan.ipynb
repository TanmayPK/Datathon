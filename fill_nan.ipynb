{
 "cells": [
  {
   "cell_type": "code",
   "execution_count": 10,
   "metadata": {},
   "outputs": [],
   "source": [
    "import pandas as pd"
   ]
  },
  {
   "cell_type": "code",
   "execution_count": 32,
   "metadata": {},
   "outputs": [],
   "source": [
    "aed = pd.read_parquet(\"data/aed_locations.parquet.gzip\")\n",
    "ambulance = pd.read_parquet(\"data/ambulance_locations.parquet.gzip\")\n",
    "cad = pd.read_parquet(\"data/cad9.parquet.gzip\")\n",
    "\n",
    "interventions_bxl = pd.read_parquet(\"data/interventions_bxl.parquet.gzip\")\n",
    "interventions_bxl2 = pd.read_parquet(\"data/interventions_bxl2.parquet.gzip\")\n",
    "\n",
    "interventions1 = pd.read_parquet(\"data/interventions1.parquet\")\n",
    "interventions2 = pd.read_parquet(\"data/interventions2.parquet\")\n",
    "interventions3 = pd.read_parquet(\"data/interventions3.parquet\")\n",
    "\n",
    "mug = pd.read_parquet(\"data/mug_locations.parquet.gzip\")\n",
    "pit = pd.read_parquet(\"data/pit_locations.parquet.gzip\")"
   ]
  },
  {
   "cell_type": "code",
   "execution_count": 25,
   "metadata": {},
   "outputs": [
    {
     "name": "stdout",
     "output_type": "stream",
     "text": [
      "id              False\n",
      "type            False\n",
      "address         False\n",
      "number          False\n",
      "postal_code     False\n",
      "municipality    False\n",
      "province        False\n",
      "location        False\n",
      "public          False\n",
      "available       False\n",
      "hours           False\n",
      "dtype: bool\n"
     ]
    }
   ],
   "source": [
    "all_none_columns = aed.isna().all()\n",
    "\n",
    "print(all_none_columns)\n",
    "\n",
    "print(aed.head(10))"
   ]
  },
  {
   "cell_type": "code",
   "execution_count": 44,
   "metadata": {},
   "outputs": [
    {
     "name": "stdout",
     "output_type": "stream",
     "text": [
      "            id      number  postal_code  address  municipality  province\n",
      "0         13.0   24.000000       7060.0   1195.0        1901.0       3.0\n",
      "1         70.0   76.000000       4630.0   1621.0         123.0       5.0\n",
      "2         71.0   35.333333       4020.0   5219.0        1298.0       5.0\n",
      "3         72.0   35.000000       4990.0   8544.0        1274.0       5.0\n",
      "4         73.0  105.333333       4000.0   2551.0        1298.0       5.0\n",
      "...        ...         ...          ...      ...           ...       ...\n",
      "15222  16662.0   19.000000       2800.0   4632.0        1427.0       0.0\n",
      "15223  16664.0   17.000000       9160.0   4651.0        1308.0       9.0\n",
      "15224  16665.0  207.000000       9000.0   4985.0         764.0       9.0\n",
      "15225  16666.0   20.000000       1050.0    155.0         365.0       2.0\n",
      "15226  16668.0   18.000000       5640.0  10519.0        1362.0       7.0\n",
      "\n",
      "[15227 rows x 6 columns]\n"
     ]
    }
   ],
   "source": [
    "from sklearn.impute import KNNImputer\n",
    "from sklearn.preprocessing import LabelEncoder\n",
    "import json\n",
    "\n",
    "aed_encoded = pd.DataFrame()\n",
    "# Initialize LabelEncoder\n",
    "label_encoder = LabelEncoder()\n",
    "\n",
    "# Encode categorical variable 'C'\n",
    "aed_encoded[\"id\"] = aed[\"id\"]\n",
    "aed_encoded[\"number\"] = aed[\"number\"]\n",
    "aed_encoded[\"postal_code\"] = aed[\"postal_code\"]\n",
    "\n",
    "aed_encoded[\"address\"] = label_encoder.fit_transform(aed[\"address\"].astype(str))\n",
    "address_mapping = {label: idx for idx, label in enumerate(label_encoder.classes_)}\n",
    "with open(\"address_mapping.json\", \"w\") as f:\n",
    "    json.dump(address_mapping, f)\n",
    "\n",
    "aed_encoded[\"municipality\"] = label_encoder.fit_transform(aed[\"municipality\"].astype(str))\n",
    "municipality_mapping = {label: idx for idx, label in enumerate(label_encoder.classes_)}\n",
    "with open(\"municipality_mapping.json\", \"w\") as f:\n",
    "    json.dump(municipality_mapping, f)\n",
    "\n",
    "aed_encoded[\"province\"] = label_encoder.fit_transform(aed[\"province\"].astype(str))\n",
    "province_mapping = {label: idx for idx, label in enumerate(label_encoder.classes_)}\n",
    "with open(\"province_mapping.json\", \"w\") as f:\n",
    "    json.dump(province_mapping, f)\n",
    "\n",
    "\n",
    "# Initialize KNNImputer\n",
    "imputer = KNNImputer(n_neighbors=aed_encoded.shape[1])\n",
    "\n",
    "# Fit and transform the DataFrame\n",
    "df_imputed = pd.DataFrame(imputer.fit_transform(aed_encoded), columns=aed_encoded.columns)\n",
    "\n",
    "print(df_imputed)"
   ]
  }
 ],
 "metadata": {
  "kernelspec": {
   "display_name": "thon",
   "language": "python",
   "name": "python3"
  },
  "language_info": {
   "codemirror_mode": {
    "name": "ipython",
    "version": 3
   },
   "file_extension": ".py",
   "mimetype": "text/x-python",
   "name": "python",
   "nbconvert_exporter": "python",
   "pygments_lexer": "ipython3",
   "version": "3.12.1"
  }
 },
 "nbformat": 4,
 "nbformat_minor": 2
}
