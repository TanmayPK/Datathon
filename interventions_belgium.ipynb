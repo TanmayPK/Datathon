{
 "cells": [
  {
   "cell_type": "code",
   "execution_count": 80,
   "metadata": {},
   "outputs": [],
   "source": [
    "import pandas as pd\n",
    "import numpy as np"
   ]
  },
  {
   "cell_type": "code",
   "execution_count": 96,
   "metadata": {},
   "outputs": [
    {
     "name": "stdout",
     "output_type": "stream",
     "text": [
      "601881\n",
      "['HAI' 'LUX' 'ANT' 'LIM' 'NAM' 'LIE' 'BRW' 'WVL']\n",
      "6553\n"
     ]
    }
   ],
   "source": [
    "interventions1 = pd.read_parquet('data/interventions1.parquet')\n",
    "interventions2 = pd.read_parquet('data/interventions2.parquet')\n",
    "interventions3 = pd.read_parquet('data/interventions3.parquet')\n",
    "interven_out_brussels = pd.concat([interventions1, interventions2, interventions3])\n",
    "interven_out_brussels_loc = interven_out_brussels[[\"Latitude intervention\", \"Longitude intervention\", \"EventType Firstcall\"]]\n",
    "print(len(interven_out_brussels_loc))\n",
    "print(interven_out_brussels[\"Province intervention\"].iloc[np.random.randint(len(interven_out_brussels),size=(10000))].unique())\n",
    "print(len(interven_out_brussels[interven_out_brussels[\"Province intervention\"]==\"BRW\"]))"
   ]
  },
  {
   "cell_type": "code",
   "execution_count": 82,
   "metadata": {},
   "outputs": [
    {
     "name": "stdout",
     "output_type": "stream",
     "text": [
      "115647 38620\n",
      "Index(['mission_id', 'service_name', 'postalcode_permanence',\n",
      "       'cityname_permanence', 'streetname_permanence',\n",
      "       'housenumber_permanence', 'latitude_permanence', 'longitude_permanence',\n",
      "       'permanence_short_name', 'permanence_long_name', 'vector_type',\n",
      "       'eventtype_firstcall', 'eventLevel_firstcall', 'eventtype_trip',\n",
      "       'eventlevel_trip', 'postalcode_intervention', 'cityname_intervention',\n",
      "       'latitude_intervention', 'longitude_intervention', 't0', 't1',\n",
      "       't1confirmed', 't2', 't3', 't4', 't5', 't6', 't7', 't9',\n",
      "       'intervention_time_t1reported', 'waiting_time', 'intervention_duration',\n",
      "       'departure_time_t1reported', 'unavailable_time',\n",
      "       'name_destination_hospital', 'postalcode_destination_hospital',\n",
      "       'cityname_destination_hospital', 'streetname_destination_hospital',\n",
      "       'housenumber_destination_hospital', 'calculated_traveltime_departure_',\n",
      "       'calculated_distance_departure_to', 'calculated_traveltime_destinatio',\n",
      "       'calculated_distance_destination_', 'number_of_transported_persons',\n",
      "       'abandon_reason', 'Mission ID', 'T0', 'Cityname Intervention',\n",
      "       'Longitude intervention', 'Latitude intervention', 'description_nl',\n",
      "       'ic_description_nl', 'EventType and EventLevel', 'creationtime',\n",
      "       'Number of transported persons', 'Permanence long name NL',\n",
      "       'Permanence long name FR', 'Permanence short name NL',\n",
      "       'Permanence short name FR', 'Service Name NL', 'Service Name FR',\n",
      "       'Cityname Permanence', 'Streetname Permanence',\n",
      "       'Housenumber Permanence', 'Latitude Permanence', 'Longitude Permanence',\n",
      "       'Vector type NL', 'Vector type FR', 'Name destination hospital',\n",
      "       'Cityname destination hospital', 'Streetname destination hospital',\n",
      "       'Housenumber destination hospital', 'Abandon reason NL',\n",
      "       'Abandon reason FR', 'T1', 'T2', 'T3', 'T4', 'T5', 'T6', 'T7',\n",
      "       'EventType Firstcall'],\n",
      "      dtype='object')\n"
     ]
    }
   ],
   "source": [
    "interventions_bxl_1 = pd.read_parquet('data/interventions_bxl.parquet.gzip')\n",
    "interventions_bxl_2 = pd.read_parquet('data/interventions_bxl2.parquet.gzip')\n",
    "print(len(interventions_bxl_1), len(interventions_bxl_2))\n",
    "interven_brussels = pd.concat([interventions_bxl_1, interventions_bxl_2])\n",
    "#print(interven_brussels.columns)\n",
    "interven_brussels[\"Latitude intervention\"] = interven_brussels[\"latitude_intervention\"]\n",
    "interven_brussels[\"Longitude intervention\"] = interven_brussels[\"longitude_intervention\"]\n",
    "interven_brussels[\"EventType Firstcall\"] = interven_brussels[\"eventtype_firstcall\"]\n",
    "rename_dict = {\"latitude_intervention\":\"Latitude intervention\", \"longitude_intervention\":\"Longitude intervention\", \"eventtype_firstcall\":\"EventType Firstcall\"}\n",
    "print(interven_brussels.columns)\n",
    "interven_brussels_loc = interven_brussels[[\"Latitude intervention\", \"Longitude intervention\", \"EventType Firstcall\"]]"
   ]
  },
  {
   "cell_type": "code",
   "execution_count": 83,
   "metadata": {},
   "outputs": [
    {
     "name": "stdout",
     "output_type": "stream",
     "text": [
      "756148\n"
     ]
    }
   ],
   "source": [
    "interven_tot_loc = pd.concat([interven_out_brussels_loc, interven_brussels_loc])\n",
    "print(len(interven_tot_loc))\n"
   ]
  },
  {
   "cell_type": "code",
   "execution_count": 84,
   "metadata": {},
   "outputs": [
    {
     "name": "stdout",
     "output_type": "stream",
     "text": [
      "0        0\n",
      "1        0\n",
      "2        0\n",
      "3        1\n",
      "4        1\n",
      "        ..\n",
      "38615    0\n",
      "38616    0\n",
      "38617    0\n",
      "38618    0\n",
      "38619    0\n",
      "Name: AED need level, Length: 756148, dtype: int64\n"
     ]
    }
   ],
   "source": [
    "with open(\"data/cause_aed_need.txt\",'r') as f:\n",
    "    s = f.read()\n",
    "s=s.split('\\n')\n",
    "\n",
    "cause_aed_need_dict = {}\n",
    "for i in range(len(s)):\n",
    "    v=s[i][-1]\n",
    "    cause_aed_need_dict[s[i][:-2]] = int(v)\n",
    "    \n",
    "def f(x):\n",
    "    if x is not None and str(x) != \"nan\":\n",
    "        print(x)\n",
    "    return 0\n",
    "\n",
    "interven_tot_loc[\"AED need level\"] = 0\n",
    "interven_tot_loc[\"AED need level\"] = interven_tot_loc[\"EventType Firstcall\"].apply(lambda x: cause_aed_need_dict[x] if x in list(cause_aed_need_dict.keys()) else f(x))\n",
    "print(interven_tot_loc[\"AED need level\"])"
   ]
  },
  {
   "cell_type": "code",
   "execution_count": 85,
   "metadata": {},
   "outputs": [
    {
     "name": "stdout",
     "output_type": "stream",
     "text": [
      "0\n",
      "0\n"
     ]
    }
   ],
   "source": [
    "interven_tot_loc['Latitude intervention'] = interven_tot_loc['Latitude intervention'].apply(lambda x: x / 10 if x >= 100 else x)\n",
    "interven_tot_loc['Latitude intervention'] = interven_tot_loc['Latitude intervention'].apply(lambda x: x / 10 if x >= 100 else x)\n",
    "interven_tot_loc['Latitude intervention'] = interven_tot_loc['Latitude intervention'].apply(lambda x: x / 10 if x >= 100 else x)\n",
    "interven_tot_loc['Latitude intervention'] = interven_tot_loc['Latitude intervention'].apply(lambda x: x / 10 if x >= 100 else x)\n",
    "interven_tot_loc['Latitude intervention'] = interven_tot_loc['Latitude intervention'].apply(lambda x: x / 10 if x >= 100 else x)\n",
    "interven_tot_loc['Latitude intervention'] = interven_tot_loc['Latitude intervention'].apply(lambda x: x / 10 if x >= 100 else x)\n",
    "interven_tot_loc['Latitude intervention'] = interven_tot_loc['Latitude intervention'].apply(lambda x: x / 10 if x >= 100 else x)\n",
    "interven_tot_loc['Latitude intervention'] = interven_tot_loc['Latitude intervention'].apply(lambda x: x / 10 if x >= 100 else x)\n",
    "\n",
    "interven_tot_loc['Longitude intervention'] = interven_tot_loc['Longitude intervention'].apply(lambda x: x / 10 if x >= 10 else x)\n",
    "interven_tot_loc['Longitude intervention'] = interven_tot_loc['Longitude intervention'].apply(lambda x: x / 10 if x >= 10 else x)\n",
    "interven_tot_loc['Longitude intervention'] = interven_tot_loc['Longitude intervention'].apply(lambda x: x / 10 if x >= 10 else x)\n",
    "interven_tot_loc['Longitude intervention'] = interven_tot_loc['Longitude intervention'].apply(lambda x: x / 10 if x >= 10 else x)\n",
    "interven_tot_loc['Longitude intervention'] = interven_tot_loc['Longitude intervention'].apply(lambda x: x / 10 if x >= 10 else x)\n",
    "interven_tot_loc['Longitude intervention'] = interven_tot_loc['Longitude intervention'].apply(lambda x: x / 10 if x >= 10 else x)\n",
    "interven_tot_loc['Longitude intervention'] = interven_tot_loc['Longitude intervention'].apply(lambda x: x / 10 if x >= 10 else x)\n",
    "interven_tot_loc['Longitude intervention'] = interven_tot_loc['Longitude intervention'].apply(lambda x: x / 10 if x >= 10 else x)\n",
    "\n",
    "import numpy as np\n",
    "print((np.array(interven_tot_loc[\"Latitude intervention\"].tolist())>=100).sum())\n",
    "print((np.array(interven_tot_loc[\"Longitude intervention\"].tolist())>=10).sum())\n",
    "\n"
   ]
  },
  {
   "cell_type": "code",
   "execution_count": 86,
   "metadata": {},
   "outputs": [
    {
     "name": "stdout",
     "output_type": "stream",
     "text": [
      "       Latitude intervention  Longitude intervention  \\\n",
      "0                   51.12496                 4.57408   \n",
      "1                   51.30626                 4.40502   \n",
      "2                   51.30626                 4.40502   \n",
      "3                   51.23878                 4.44533   \n",
      "4                   51.25071                 4.51299   \n",
      "...                      ...                     ...   \n",
      "38615                    NaN                     NaN   \n",
      "38616                    NaN                     NaN   \n",
      "38617                    NaN                     NaN   \n",
      "38618                    NaN                     NaN   \n",
      "38619                    NaN                     NaN   \n",
      "\n",
      "                  EventType Firstcall  AED need level  \n",
      "0         P020 - Intoxication alcohol               0  \n",
      "1           P068 - Urogenital problem               0  \n",
      "2           P068 - Urogenital problem               0  \n",
      "3                       P033 - Trauma               1  \n",
      "4      P022 - Intoxication medication               1  \n",
      "...                               ...             ...  \n",
      "38615                             NaN               0  \n",
      "38616                             NaN               0  \n",
      "38617                             NaN               0  \n",
      "38618                             NaN               0  \n",
      "38619                             NaN               0  \n",
      "\n",
      "[756148 rows x 4 columns]\n"
     ]
    }
   ],
   "source": [
    "print(interven_tot_loc)"
   ]
  },
  {
   "cell_type": "code",
   "execution_count": 87,
   "metadata": {},
   "outputs": [],
   "source": [
    "interven_tot_loc.to_csv('interventions_belgium.csv', index = False)"
   ]
  }
 ],
 "metadata": {
  "kernelspec": {
   "display_name": "test-env-newgpu-python39",
   "language": "python",
   "name": "python3"
  },
  "language_info": {
   "codemirror_mode": {
    "name": "ipython",
    "version": 3
   },
   "file_extension": ".py",
   "mimetype": "text/x-python",
   "name": "python",
   "nbconvert_exporter": "python",
   "pygments_lexer": "ipython3",
   "version": "3.9.18"
  }
 },
 "nbformat": 4,
 "nbformat_minor": 2
}
