{
 "cells": [
  {
   "cell_type": "code",
   "execution_count": 10,
   "metadata": {},
   "outputs": [],
   "source": [
    "import pandas as pd"
   ]
  },
  {
   "cell_type": "code",
   "execution_count": 11,
   "metadata": {},
   "outputs": [
    {
     "name": "stdout",
     "output_type": "stream",
     "text": [
      "601881\n"
     ]
    }
   ],
   "source": [
    "interventions1 = pd.read_parquet('data/interventions1.parquet')\n",
    "interventions2 = pd.read_parquet('data/interventions2.parquet')\n",
    "interventions3 = pd.read_parquet('data/interventions3.parquet')\n",
    "interven_out_brussels = pd.concat([interventions1, interventions2, interventions3])\n",
    "interven_out_brussels_loc = interven_out_brussels[[\"Latitude intervention\", \"Longitude intervention\", \"EventType Firstcall\"]]\n",
    "print(len(interven_out_brussels_loc))\n"
   ]
  },
  {
   "cell_type": "code",
   "execution_count": 14,
   "metadata": {},
   "outputs": [
    {
     "name": "stdout",
     "output_type": "stream",
     "text": [
      "115647 38620\n",
      "Index(['mission_id', 'service_name', 'postalcode_permanence',\n",
      "       'cityname_permanence', 'streetname_permanence',\n",
      "       'housenumber_permanence', 'latitude_permanence', 'longitude_permanence',\n",
      "       'permanence_short_name', 'permanence_long_name', 'vector_type',\n",
      "       'eventtype_firstcall', 'eventLevel_firstcall', 'eventtype_trip',\n",
      "       'eventlevel_trip', 'postalcode_intervention', 'cityname_intervention',\n",
      "       'latitude_intervention', 'longitude_intervention', 't0', 't1',\n",
      "       't1confirmed', 't2', 't3', 't4', 't5', 't6', 't7', 't9',\n",
      "       'intervention_time_t1reported', 'waiting_time', 'intervention_duration',\n",
      "       'departure_time_t1reported', 'unavailable_time',\n",
      "       'name_destination_hospital', 'postalcode_destination_hospital',\n",
      "       'cityname_destination_hospital', 'streetname_destination_hospital',\n",
      "       'housenumber_destination_hospital', 'calculated_traveltime_departure_',\n",
      "       'calculated_distance_departure_to', 'calculated_traveltime_destinatio',\n",
      "       'calculated_distance_destination_', 'number_of_transported_persons',\n",
      "       'abandon_reason', 'Mission ID', 'T0', 'Cityname Intervention',\n",
      "       'Longitude intervention', 'Latitude intervention', 'description_nl',\n",
      "       'ic_description_nl', 'EventType and EventLevel', 'creationtime',\n",
      "       'Number of transported persons', 'Permanence long name NL',\n",
      "       'Permanence long name FR', 'Permanence short name NL',\n",
      "       'Permanence short name FR', 'Service Name NL', 'Service Name FR',\n",
      "       'Cityname Permanence', 'Streetname Permanence',\n",
      "       'Housenumber Permanence', 'Latitude Permanence', 'Longitude Permanence',\n",
      "       'Vector type NL', 'Vector type FR', 'Name destination hospital',\n",
      "       'Cityname destination hospital', 'Streetname destination hospital',\n",
      "       'Housenumber destination hospital', 'Abandon reason NL',\n",
      "       'Abandon reason FR', 'T1', 'T2', 'T3', 'T4', 'T5', 'T6', 'T7',\n",
      "       'EventType Firstcall'],\n",
      "      dtype='object')\n"
     ]
    }
   ],
   "source": [
    "interventions_bxl_1 = pd.read_parquet('data/interventions_bxl.parquet.gzip')\n",
    "interventions_bxl_2 = pd.read_parquet('data/interventions_bxl2.parquet.gzip')\n",
    "print(len(interventions_bxl_1), len(interventions_bxl_2))\n",
    "interven_brussels = pd.concat([interventions_bxl_1, interventions_bxl_2])\n",
    "#print(interven_brussels.columns)\n",
    "interven_brussels[\"Latitude intervention\"] = interven_brussels[\"latitude_intervention\"]\n",
    "interven_brussels[\"Longitude intervention\"] = interven_brussels[\"longitude_intervention\"]\n",
    "interven_brussels[\"EventType Firstcall\"] = interven_brussels[\"eventtype_firstcall\"]\n",
    "rename_dict = {\"latitude_intervention\":\"Latitude intervention\", \"longitude_intervention\":\"Longitude intervention\", \"eventtype_firstcall\":\"EventType Firstcall\"}\n",
    "print(interven_brussels.columns)\n",
    "interven_brussels_loc = interven_brussels[[\"Latitude intervention\", \"Longitude intervention\", \"EventType Firstcall\"]]"
   ]
  },
  {
   "cell_type": "code",
   "execution_count": 15,
   "metadata": {},
   "outputs": [
    {
     "name": "stdout",
     "output_type": "stream",
     "text": [
      "756148\n"
     ]
    }
   ],
   "source": [
    "interven_tot_loc = pd.concat([interven_out_brussels_loc, interven_brussels_loc])\n",
    "print(len(interven_tot_loc))\n"
   ]
  },
  {
   "cell_type": "code",
   "execution_count": 33,
   "metadata": {},
   "outputs": [
    {
     "name": "stdout",
     "output_type": "stream",
     "text": [
      "0        0\n",
      "1        0\n",
      "2        0\n",
      "3        1\n",
      "4        1\n",
      "        ..\n",
      "38615    0\n",
      "38616    0\n",
      "38617    0\n",
      "38618    0\n",
      "38619    0\n",
      "Name: AED need level, Length: 756148, dtype: int64\n"
     ]
    }
   ],
   "source": [
    "with open(\"data/cause_aed_need.txt\",'r') as f:\n",
    "    s = f.read()\n",
    "s=s.split('\\n')\n",
    "\n",
    "cause_aed_need_dict = {}\n",
    "for i in range(len(s)):\n",
    "    v=s[i][-1]\n",
    "    cause_aed_need_dict[s[i][:-2]] = int(v)\n",
    "    \n",
    "def f(x):\n",
    "    if x is not None and str(x) != \"nan\":\n",
    "        print(x)\n",
    "    return 0\n",
    "\n",
    "interven_tot_loc[\"AED need level\"] = 0\n",
    "interven_tot_loc[\"AED need level\"] = interven_tot_loc[\"EventType Firstcall\"].apply(lambda x: cause_aed_need_dict[x] if x in list(cause_aed_need_dict.keys()) else f(x))\n",
    "print(interven_tot_loc[\"AED need level\"])"
   ]
  },
  {
   "cell_type": "code",
   "execution_count": 47,
   "metadata": {},
   "outputs": [
    {
     "name": "stdout",
     "output_type": "stream",
     "text": [
      "0\n",
      "1\n"
     ]
    },
    {
     "ename": "KeyError",
     "evalue": "'atitude intervention'",
     "output_type": "error",
     "traceback": [
      "\u001b[0;31m---------------------------------------------------------------------------\u001b[0m",
      "\u001b[0;31mKeyError\u001b[0m                                  Traceback (most recent call last)",
      "File \u001b[0;32m~/anaconda3/envs/test-env-newgpu-python39/lib/python3.9/site-packages/pandas/core/indexes/base.py:3791\u001b[0m, in \u001b[0;36mIndex.get_loc\u001b[0;34m(self, key)\u001b[0m\n\u001b[1;32m   3790\u001b[0m \u001b[38;5;28;01mtry\u001b[39;00m:\n\u001b[0;32m-> 3791\u001b[0m     \u001b[38;5;28;01mreturn\u001b[39;00m \u001b[38;5;28;43mself\u001b[39;49m\u001b[38;5;241;43m.\u001b[39;49m\u001b[43m_engine\u001b[49m\u001b[38;5;241;43m.\u001b[39;49m\u001b[43mget_loc\u001b[49m\u001b[43m(\u001b[49m\u001b[43mcasted_key\u001b[49m\u001b[43m)\u001b[49m\n\u001b[1;32m   3792\u001b[0m \u001b[38;5;28;01mexcept\u001b[39;00m \u001b[38;5;167;01mKeyError\u001b[39;00m \u001b[38;5;28;01mas\u001b[39;00m err:\n",
      "File \u001b[0;32mindex.pyx:152\u001b[0m, in \u001b[0;36mpandas._libs.index.IndexEngine.get_loc\u001b[0;34m()\u001b[0m\n",
      "File \u001b[0;32mindex.pyx:181\u001b[0m, in \u001b[0;36mpandas._libs.index.IndexEngine.get_loc\u001b[0;34m()\u001b[0m\n",
      "File \u001b[0;32mpandas/_libs/hashtable_class_helper.pxi:7080\u001b[0m, in \u001b[0;36mpandas._libs.hashtable.PyObjectHashTable.get_item\u001b[0;34m()\u001b[0m\n",
      "File \u001b[0;32mpandas/_libs/hashtable_class_helper.pxi:7088\u001b[0m, in \u001b[0;36mpandas._libs.hashtable.PyObjectHashTable.get_item\u001b[0;34m()\u001b[0m\n",
      "\u001b[0;31mKeyError\u001b[0m: 'atitude intervention'",
      "\nThe above exception was the direct cause of the following exception:\n",
      "\u001b[0;31mKeyError\u001b[0m                                  Traceback (most recent call last)",
      "Cell \u001b[0;32mIn[47], line 11\u001b[0m\n\u001b[1;32m      8\u001b[0m \u001b[38;5;28mprint\u001b[39m((np\u001b[38;5;241m.\u001b[39marray(interven_tot_loc[\u001b[38;5;124m\"\u001b[39m\u001b[38;5;124mLongitude intervention\u001b[39m\u001b[38;5;124m\"\u001b[39m]\u001b[38;5;241m.\u001b[39mtolist())\u001b[38;5;241m<\u001b[39m\u001b[38;5;241m=\u001b[39m\u001b[38;5;241m2\u001b[39m)\u001b[38;5;241m.\u001b[39msum())\n\u001b[1;32m     10\u001b[0m interven_tot_loc \u001b[38;5;241m=\u001b[39m interven_tot_loc[interven_tot_loc[\u001b[38;5;124m\"\u001b[39m\u001b[38;5;124mLongitude intervention\u001b[39m\u001b[38;5;124m\"\u001b[39m] \u001b[38;5;241m<\u001b[39m\u001b[38;5;241m=\u001b[39m \u001b[38;5;241m2\u001b[39m]\n\u001b[0;32m---> 11\u001b[0m interven_tot_loc \u001b[38;5;241m=\u001b[39m interven_tot_loc[\u001b[43minterven_tot_loc\u001b[49m\u001b[43m[\u001b[49m\u001b[38;5;124;43m\"\u001b[39;49m\u001b[38;5;124;43matitude intervention\u001b[39;49m\u001b[38;5;124;43m\"\u001b[39;49m\u001b[43m]\u001b[49m \u001b[38;5;241m<\u001b[39m\u001b[38;5;241m=\u001b[39m \u001b[38;5;241m20\u001b[39m]\n",
      "File \u001b[0;32m~/anaconda3/envs/test-env-newgpu-python39/lib/python3.9/site-packages/pandas/core/frame.py:3893\u001b[0m, in \u001b[0;36mDataFrame.__getitem__\u001b[0;34m(self, key)\u001b[0m\n\u001b[1;32m   3891\u001b[0m \u001b[38;5;28;01mif\u001b[39;00m \u001b[38;5;28mself\u001b[39m\u001b[38;5;241m.\u001b[39mcolumns\u001b[38;5;241m.\u001b[39mnlevels \u001b[38;5;241m>\u001b[39m \u001b[38;5;241m1\u001b[39m:\n\u001b[1;32m   3892\u001b[0m     \u001b[38;5;28;01mreturn\u001b[39;00m \u001b[38;5;28mself\u001b[39m\u001b[38;5;241m.\u001b[39m_getitem_multilevel(key)\n\u001b[0;32m-> 3893\u001b[0m indexer \u001b[38;5;241m=\u001b[39m \u001b[38;5;28;43mself\u001b[39;49m\u001b[38;5;241;43m.\u001b[39;49m\u001b[43mcolumns\u001b[49m\u001b[38;5;241;43m.\u001b[39;49m\u001b[43mget_loc\u001b[49m\u001b[43m(\u001b[49m\u001b[43mkey\u001b[49m\u001b[43m)\u001b[49m\n\u001b[1;32m   3894\u001b[0m \u001b[38;5;28;01mif\u001b[39;00m is_integer(indexer):\n\u001b[1;32m   3895\u001b[0m     indexer \u001b[38;5;241m=\u001b[39m [indexer]\n",
      "File \u001b[0;32m~/anaconda3/envs/test-env-newgpu-python39/lib/python3.9/site-packages/pandas/core/indexes/base.py:3798\u001b[0m, in \u001b[0;36mIndex.get_loc\u001b[0;34m(self, key)\u001b[0m\n\u001b[1;32m   3793\u001b[0m     \u001b[38;5;28;01mif\u001b[39;00m \u001b[38;5;28misinstance\u001b[39m(casted_key, \u001b[38;5;28mslice\u001b[39m) \u001b[38;5;129;01mor\u001b[39;00m (\n\u001b[1;32m   3794\u001b[0m         \u001b[38;5;28misinstance\u001b[39m(casted_key, abc\u001b[38;5;241m.\u001b[39mIterable)\n\u001b[1;32m   3795\u001b[0m         \u001b[38;5;129;01mand\u001b[39;00m \u001b[38;5;28many\u001b[39m(\u001b[38;5;28misinstance\u001b[39m(x, \u001b[38;5;28mslice\u001b[39m) \u001b[38;5;28;01mfor\u001b[39;00m x \u001b[38;5;129;01min\u001b[39;00m casted_key)\n\u001b[1;32m   3796\u001b[0m     ):\n\u001b[1;32m   3797\u001b[0m         \u001b[38;5;28;01mraise\u001b[39;00m InvalidIndexError(key)\n\u001b[0;32m-> 3798\u001b[0m     \u001b[38;5;28;01mraise\u001b[39;00m \u001b[38;5;167;01mKeyError\u001b[39;00m(key) \u001b[38;5;28;01mfrom\u001b[39;00m \u001b[38;5;21;01merr\u001b[39;00m\n\u001b[1;32m   3799\u001b[0m \u001b[38;5;28;01mexcept\u001b[39;00m \u001b[38;5;167;01mTypeError\u001b[39;00m:\n\u001b[1;32m   3800\u001b[0m     \u001b[38;5;66;03m# If we have a listlike key, _check_indexing_error will raise\u001b[39;00m\n\u001b[1;32m   3801\u001b[0m     \u001b[38;5;66;03m#  InvalidIndexError. Otherwise we fall through and re-raise\u001b[39;00m\n\u001b[1;32m   3802\u001b[0m     \u001b[38;5;66;03m#  the TypeError.\u001b[39;00m\n\u001b[1;32m   3803\u001b[0m     \u001b[38;5;28mself\u001b[39m\u001b[38;5;241m.\u001b[39m_check_indexing_error(key)\n",
      "\u001b[0;31mKeyError\u001b[0m: 'atitude intervention'"
     ]
    }
   ],
   "source": [
    "interven_tot_loc['Latitude intervention'] = interven_tot_loc['Latitude intervention'].apply(lambda x: x / 10 if x >= 100 else x)\n",
    "interven_tot_loc['Latitude intervention'] = interven_tot_loc['Latitude intervention'].apply(lambda x: x / 10 if x >= 100 else x)\n",
    "\n",
    "interven_tot_loc['Longitude intervention'] = interven_tot_loc['Longitude intervention'].apply(lambda x: x / 10 if x >= 10 else x)\n",
    "interven_tot_loc['Longitude intervention'] = interven_tot_loc['Longitude intervention'].apply(lambda x: x / 10 if x >= 10 else x)\n",
    "import numpy as np\n",
    "print((np.array(interven_tot_loc[\"Latitude intervention\"].tolist())<=20).sum())\n",
    "print((np.array(interven_tot_loc[\"Longitude intervention\"].tolist())<=2).sum())\n",
    "\n",
    "interven_tot_loc = interven_tot_loc[interven_tot_loc[\"Longitude intervention\"] <= 2]\n",
    "interven_tot_loc = interven_tot_loc[interven_tot_loc[\"Latitude intervention\"] <= 20]\n"
   ]
  },
  {
   "cell_type": "code",
   "execution_count": 44,
   "metadata": {},
   "outputs": [],
   "source": [
    "interven_tot_loc.to_csv('interventions_belgium.csv', index = False)"
   ]
  }
 ],
 "metadata": {
  "kernelspec": {
   "display_name": "test-env-newgpu-python39",
   "language": "python",
   "name": "python3"
  },
  "language_info": {
   "codemirror_mode": {
    "name": "ipython",
    "version": 3
   },
   "file_extension": ".py",
   "mimetype": "text/x-python",
   "name": "python",
   "nbconvert_exporter": "python",
   "pygments_lexer": "ipython3",
   "version": "3.9.18"
  }
 },
 "nbformat": 4,
 "nbformat_minor": 2
}
